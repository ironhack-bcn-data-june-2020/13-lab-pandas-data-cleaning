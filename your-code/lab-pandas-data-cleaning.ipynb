{
 "cells": [
  {
   "cell_type": "markdown",
   "metadata": {},
   "source": [
    "#### 1. Import pandas library"
   ]
  },
  {
   "cell_type": "code",
   "execution_count": 1,
   "metadata": {
    "ExecuteTime": {
     "end_time": "2020-07-19T08:39:21.644436Z",
     "start_time": "2020-07-19T08:39:20.765086Z"
    }
   },
   "outputs": [],
   "source": [
    "import pandas as pd"
   ]
  },
  {
   "cell_type": "markdown",
   "metadata": {},
   "source": [
    "#### 2. Load data (users.csv, posts.csv)"
   ]
  },
  {
   "cell_type": "code",
   "execution_count": 2,
   "metadata": {
    "ExecuteTime": {
     "end_time": "2020-07-19T08:39:21.751897Z",
     "start_time": "2020-07-19T08:39:21.647321Z"
    }
   },
   "outputs": [],
   "source": [
    "users = pd.read_csv('users.csv')"
   ]
  },
  {
   "cell_type": "code",
   "execution_count": 3,
   "metadata": {
    "ExecuteTime": {
     "end_time": "2020-07-19T08:39:21.949581Z",
     "start_time": "2020-07-19T08:39:21.755747Z"
    }
   },
   "outputs": [],
   "source": [
    "posts = pd.read_csv('posts.csv')"
   ]
  },
  {
   "cell_type": "markdown",
   "metadata": {},
   "source": [
    "#### 3. Rename id column to user_id"
   ]
  },
  {
   "cell_type": "code",
   "execution_count": 4,
   "metadata": {
    "ExecuteTime": {
     "end_time": "2020-07-19T08:39:21.965035Z",
     "start_time": "2020-07-19T08:39:21.952820Z"
    }
   },
   "outputs": [],
   "source": [
    "users.rename(columns={'id':'user_id'}, inplace = True)"
   ]
  },
  {
   "cell_type": "markdown",
   "metadata": {},
   "source": [
    "#### 4. Rename id column to post_id and owner_user_id to user_id"
   ]
  },
  {
   "cell_type": "code",
   "execution_count": 5,
   "metadata": {
    "ExecuteTime": {
     "end_time": "2020-07-19T08:39:21.989527Z",
     "start_time": "2020-07-19T08:39:21.969577Z"
    }
   },
   "outputs": [],
   "source": [
    "posts.rename(columns={'id':'post_id', 'owner_user_id': 'user_id'}, inplace = True)"
   ]
  },
  {
   "cell_type": "markdown",
   "metadata": {},
   "source": [
    "#### 5. Define new dataframes for users and posts with the following selected columns:\n",
    "    **users columns**: user_id, reputation,views,up_votes,down_votes\n",
    "    **posts columns**: post_id, score,user_id,view_count,comment_count"
   ]
  },
  {
   "cell_type": "code",
   "execution_count": 6,
   "metadata": {
    "ExecuteTime": {
     "end_time": "2020-07-19T08:39:22.036633Z",
     "start_time": "2020-07-19T08:39:21.993438Z"
    }
   },
   "outputs": [
    {
     "data": {
      "text/html": [
       "<div>\n",
       "<style scoped>\n",
       "    .dataframe tbody tr th:only-of-type {\n",
       "        vertical-align: middle;\n",
       "    }\n",
       "\n",
       "    .dataframe tbody tr th {\n",
       "        vertical-align: top;\n",
       "    }\n",
       "\n",
       "    .dataframe thead th {\n",
       "        text-align: right;\n",
       "    }\n",
       "</style>\n",
       "<table border=\"1\" class=\"dataframe\">\n",
       "  <thead>\n",
       "    <tr style=\"text-align: right;\">\n",
       "      <th></th>\n",
       "      <th>user_id</th>\n",
       "      <th>reputation</th>\n",
       "      <th>views</th>\n",
       "      <th>up_votes</th>\n",
       "      <th>down_votes</th>\n",
       "    </tr>\n",
       "  </thead>\n",
       "  <tbody>\n",
       "    <tr>\n",
       "      <th>0</th>\n",
       "      <td>107658</td>\n",
       "      <td>305</td>\n",
       "      <td>91</td>\n",
       "      <td>2</td>\n",
       "      <td>0</td>\n",
       "    </tr>\n",
       "    <tr>\n",
       "      <th>1</th>\n",
       "      <td>218597</td>\n",
       "      <td>6559</td>\n",
       "      <td>374</td>\n",
       "      <td>361</td>\n",
       "      <td>25</td>\n",
       "    </tr>\n",
       "    <tr>\n",
       "      <th>2</th>\n",
       "      <td>326360</td>\n",
       "      <td>1802</td>\n",
       "      <td>97</td>\n",
       "      <td>40</td>\n",
       "      <td>14</td>\n",
       "    </tr>\n",
       "    <tr>\n",
       "      <th>3</th>\n",
       "      <td>379556</td>\n",
       "      <td>2335</td>\n",
       "      <td>261</td>\n",
       "      <td>125</td>\n",
       "      <td>10</td>\n",
       "    </tr>\n",
       "    <tr>\n",
       "      <th>4</th>\n",
       "      <td>450456</td>\n",
       "      <td>7746</td>\n",
       "      <td>3598</td>\n",
       "      <td>256</td>\n",
       "      <td>50</td>\n",
       "    </tr>\n",
       "  </tbody>\n",
       "</table>\n",
       "</div>"
      ],
      "text/plain": [
       "   user_id  reputation  views  up_votes  down_votes\n",
       "0   107658         305     91         2           0\n",
       "1   218597        6559    374       361          25\n",
       "2   326360        1802     97        40          14\n",
       "3   379556        2335    261       125          10\n",
       "4   450456        7746   3598       256          50"
      ]
     },
     "execution_count": 6,
     "metadata": {},
     "output_type": "execute_result"
    }
   ],
   "source": [
    "users = users[['user_id', 'reputation', 'views', 'up_votes', 'down_votes']]\n",
    "users.head()"
   ]
  },
  {
   "cell_type": "code",
   "execution_count": 7,
   "metadata": {
    "ExecuteTime": {
     "end_time": "2020-07-19T08:39:22.088934Z",
     "start_time": "2020-07-19T08:39:22.046539Z"
    }
   },
   "outputs": [
    {
     "data": {
      "text/html": [
       "<div>\n",
       "<style scoped>\n",
       "    .dataframe tbody tr th:only-of-type {\n",
       "        vertical-align: middle;\n",
       "    }\n",
       "\n",
       "    .dataframe tbody tr th {\n",
       "        vertical-align: top;\n",
       "    }\n",
       "\n",
       "    .dataframe thead th {\n",
       "        text-align: right;\n",
       "    }\n",
       "</style>\n",
       "<table border=\"1\" class=\"dataframe\">\n",
       "  <thead>\n",
       "    <tr style=\"text-align: right;\">\n",
       "      <th></th>\n",
       "      <th>post_id</th>\n",
       "      <th>score</th>\n",
       "      <th>user_id</th>\n",
       "      <th>view_count</th>\n",
       "      <th>comment_count</th>\n",
       "    </tr>\n",
       "  </thead>\n",
       "  <tbody>\n",
       "    <tr>\n",
       "      <th>0</th>\n",
       "      <td>30336926</td>\n",
       "      <td>1</td>\n",
       "      <td>NaN</td>\n",
       "      <td>14</td>\n",
       "      <td>3</td>\n",
       "    </tr>\n",
       "    <tr>\n",
       "      <th>1</th>\n",
       "      <td>36873524</td>\n",
       "      <td>1</td>\n",
       "      <td>NaN</td>\n",
       "      <td>18</td>\n",
       "      <td>0</td>\n",
       "    </tr>\n",
       "    <tr>\n",
       "      <th>2</th>\n",
       "      <td>36605876</td>\n",
       "      <td>1</td>\n",
       "      <td>NaN</td>\n",
       "      <td>19</td>\n",
       "      <td>0</td>\n",
       "    </tr>\n",
       "    <tr>\n",
       "      <th>3</th>\n",
       "      <td>36718461</td>\n",
       "      <td>1</td>\n",
       "      <td>NaN</td>\n",
       "      <td>17</td>\n",
       "      <td>0</td>\n",
       "    </tr>\n",
       "    <tr>\n",
       "      <th>4</th>\n",
       "      <td>30434893</td>\n",
       "      <td>0</td>\n",
       "      <td>NaN</td>\n",
       "      <td>15</td>\n",
       "      <td>0</td>\n",
       "    </tr>\n",
       "  </tbody>\n",
       "</table>\n",
       "</div>"
      ],
      "text/plain": [
       "    post_id  score  user_id  view_count  comment_count\n",
       "0  30336926      1      NaN          14              3\n",
       "1  36873524      1      NaN          18              0\n",
       "2  36605876      1      NaN          19              0\n",
       "3  36718461      1      NaN          17              0\n",
       "4  30434893      0      NaN          15              0"
      ]
     },
     "execution_count": 7,
     "metadata": {},
     "output_type": "execute_result"
    }
   ],
   "source": [
    "posts = posts[['post_id', 'score', 'user_id', 'view_count', 'comment_count']]\n",
    "posts.head()"
   ]
  },
  {
   "cell_type": "markdown",
   "metadata": {},
   "source": [
    "#### 6. Merge both dataframes, users and posts. \n",
    "You will need to make a [merge](https://pandas.pydata.org/pandas-docs/stable/generated/pandas.DataFrame.merge.html) of posts and users dataframes."
   ]
  },
  {
   "cell_type": "code",
   "execution_count": 8,
   "metadata": {
    "ExecuteTime": {
     "end_time": "2020-07-19T08:39:22.331975Z",
     "start_time": "2020-07-19T08:39:22.102628Z"
    }
   },
   "outputs": [],
   "source": [
    "merged_df = users.merge(posts, left_on='user_id', right_on='user_id')"
   ]
  },
  {
   "cell_type": "code",
   "execution_count": 9,
   "metadata": {
    "ExecuteTime": {
     "end_time": "2020-07-19T08:39:22.380048Z",
     "start_time": "2020-07-19T08:39:22.342538Z"
    }
   },
   "outputs": [
    {
     "data": {
      "text/html": [
       "<div>\n",
       "<style scoped>\n",
       "    .dataframe tbody tr th:only-of-type {\n",
       "        vertical-align: middle;\n",
       "    }\n",
       "\n",
       "    .dataframe tbody tr th {\n",
       "        vertical-align: top;\n",
       "    }\n",
       "\n",
       "    .dataframe thead th {\n",
       "        text-align: right;\n",
       "    }\n",
       "</style>\n",
       "<table border=\"1\" class=\"dataframe\">\n",
       "  <thead>\n",
       "    <tr style=\"text-align: right;\">\n",
       "      <th></th>\n",
       "      <th>user_id</th>\n",
       "      <th>reputation</th>\n",
       "      <th>views</th>\n",
       "      <th>up_votes</th>\n",
       "      <th>down_votes</th>\n",
       "      <th>post_id</th>\n",
       "      <th>score</th>\n",
       "      <th>view_count</th>\n",
       "      <th>comment_count</th>\n",
       "    </tr>\n",
       "  </thead>\n",
       "  <tbody>\n",
       "    <tr>\n",
       "      <th>0</th>\n",
       "      <td>450456</td>\n",
       "      <td>7746</td>\n",
       "      <td>3598</td>\n",
       "      <td>256</td>\n",
       "      <td>50</td>\n",
       "      <td>34989087</td>\n",
       "      <td>0</td>\n",
       "      <td>19</td>\n",
       "      <td>0</td>\n",
       "    </tr>\n",
       "    <tr>\n",
       "      <th>1</th>\n",
       "      <td>450456</td>\n",
       "      <td>7746</td>\n",
       "      <td>3598</td>\n",
       "      <td>256</td>\n",
       "      <td>50</td>\n",
       "      <td>4142174</td>\n",
       "      <td>0</td>\n",
       "      <td>15</td>\n",
       "      <td>0</td>\n",
       "    </tr>\n",
       "    <tr>\n",
       "      <th>2</th>\n",
       "      <td>1517244</td>\n",
       "      <td>4172</td>\n",
       "      <td>224</td>\n",
       "      <td>1362</td>\n",
       "      <td>32</td>\n",
       "      <td>37211628</td>\n",
       "      <td>2</td>\n",
       "      <td>18</td>\n",
       "      <td>0</td>\n",
       "    </tr>\n",
       "    <tr>\n",
       "      <th>3</th>\n",
       "      <td>1870509</td>\n",
       "      <td>897</td>\n",
       "      <td>105</td>\n",
       "      <td>86</td>\n",
       "      <td>2</td>\n",
       "      <td>30260248</td>\n",
       "      <td>1</td>\n",
       "      <td>11</td>\n",
       "      <td>4</td>\n",
       "    </tr>\n",
       "    <tr>\n",
       "      <th>4</th>\n",
       "      <td>101719</td>\n",
       "      <td>4055</td>\n",
       "      <td>332</td>\n",
       "      <td>174</td>\n",
       "      <td>16</td>\n",
       "      <td>34528617</td>\n",
       "      <td>0</td>\n",
       "      <td>18</td>\n",
       "      <td>0</td>\n",
       "    </tr>\n",
       "    <tr>\n",
       "      <th>...</th>\n",
       "      <td>...</td>\n",
       "      <td>...</td>\n",
       "      <td>...</td>\n",
       "      <td>...</td>\n",
       "      <td>...</td>\n",
       "      <td>...</td>\n",
       "      <td>...</td>\n",
       "      <td>...</td>\n",
       "      <td>...</td>\n",
       "    </tr>\n",
       "    <tr>\n",
       "      <th>1060</th>\n",
       "      <td>4295902</td>\n",
       "      <td>1</td>\n",
       "      <td>4</td>\n",
       "      <td>0</td>\n",
       "      <td>0</td>\n",
       "      <td>31038301</td>\n",
       "      <td>0</td>\n",
       "      <td>10</td>\n",
       "      <td>0</td>\n",
       "    </tr>\n",
       "    <tr>\n",
       "      <th>1061</th>\n",
       "      <td>2856201</td>\n",
       "      <td>11</td>\n",
       "      <td>21</td>\n",
       "      <td>0</td>\n",
       "      <td>0</td>\n",
       "      <td>19348144</td>\n",
       "      <td>0</td>\n",
       "      <td>19</td>\n",
       "      <td>2</td>\n",
       "    </tr>\n",
       "    <tr>\n",
       "      <th>1062</th>\n",
       "      <td>5882818</td>\n",
       "      <td>11</td>\n",
       "      <td>3</td>\n",
       "      <td>0</td>\n",
       "      <td>0</td>\n",
       "      <td>35199880</td>\n",
       "      <td>0</td>\n",
       "      <td>20</td>\n",
       "      <td>2</td>\n",
       "    </tr>\n",
       "    <tr>\n",
       "      <th>1063</th>\n",
       "      <td>6241297</td>\n",
       "      <td>13</td>\n",
       "      <td>2</td>\n",
       "      <td>0</td>\n",
       "      <td>0</td>\n",
       "      <td>36798683</td>\n",
       "      <td>0</td>\n",
       "      <td>12</td>\n",
       "      <td>0</td>\n",
       "    </tr>\n",
       "    <tr>\n",
       "      <th>1064</th>\n",
       "      <td>592420</td>\n",
       "      <td>21</td>\n",
       "      <td>30</td>\n",
       "      <td>2</td>\n",
       "      <td>0</td>\n",
       "      <td>36739521</td>\n",
       "      <td>0</td>\n",
       "      <td>5</td>\n",
       "      <td>0</td>\n",
       "    </tr>\n",
       "  </tbody>\n",
       "</table>\n",
       "<p>1065 rows × 9 columns</p>\n",
       "</div>"
      ],
      "text/plain": [
       "      user_id  reputation  views  up_votes  down_votes   post_id  score  \\\n",
       "0      450456        7746   3598       256          50  34989087      0   \n",
       "1      450456        7746   3598       256          50   4142174      0   \n",
       "2     1517244        4172    224      1362          32  37211628      2   \n",
       "3     1870509         897    105        86           2  30260248      1   \n",
       "4      101719        4055    332       174          16  34528617      0   \n",
       "...       ...         ...    ...       ...         ...       ...    ...   \n",
       "1060  4295902           1      4         0           0  31038301      0   \n",
       "1061  2856201          11     21         0           0  19348144      0   \n",
       "1062  5882818          11      3         0           0  35199880      0   \n",
       "1063  6241297          13      2         0           0  36798683      0   \n",
       "1064   592420          21     30         2           0  36739521      0   \n",
       "\n",
       "      view_count  comment_count  \n",
       "0             19              0  \n",
       "1             15              0  \n",
       "2             18              0  \n",
       "3             11              4  \n",
       "4             18              0  \n",
       "...          ...            ...  \n",
       "1060          10              0  \n",
       "1061          19              2  \n",
       "1062          20              2  \n",
       "1063          12              0  \n",
       "1064           5              0  \n",
       "\n",
       "[1065 rows x 9 columns]"
      ]
     },
     "execution_count": 9,
     "metadata": {},
     "output_type": "execute_result"
    }
   ],
   "source": [
    "merged_df"
   ]
  },
  {
   "cell_type": "markdown",
   "metadata": {},
   "source": [
    "#### 7. How many missing values do you have in your merged dataframe? "
   ]
  },
  {
   "cell_type": "code",
   "execution_count": 10,
   "metadata": {
    "ExecuteTime": {
     "end_time": "2020-07-19T08:39:22.401359Z",
     "start_time": "2020-07-19T08:39:22.387192Z"
    }
   },
   "outputs": [
    {
     "data": {
      "text/plain": [
       "user_id          0\n",
       "reputation       0\n",
       "views            0\n",
       "up_votes         0\n",
       "down_votes       0\n",
       "post_id          0\n",
       "score            0\n",
       "view_count       0\n",
       "comment_count    0\n",
       "dtype: int64"
      ]
     },
     "execution_count": 10,
     "metadata": {},
     "output_type": "execute_result"
    }
   ],
   "source": [
    "merged_df.isna().sum()"
   ]
  },
  {
   "cell_type": "code",
   "execution_count": 11,
   "metadata": {
    "ExecuteTime": {
     "end_time": "2020-07-19T08:39:22.414965Z",
     "start_time": "2020-07-19T08:39:22.408772Z"
    }
   },
   "outputs": [],
   "source": [
    "# There are no missing values"
   ]
  },
  {
   "cell_type": "markdown",
   "metadata": {},
   "source": [
    "There are no missing values"
   ]
  },
  {
   "cell_type": "markdown",
   "metadata": {},
   "source": [
    "#### Bonus: Identify extreme values in your merged dataframe, create a dataframe called outliers with the same columns as our data set and calculate the bounds. The values of the outliers dataframe will be the values of the merged_df that fall outside that bounds. You will need to save your outliers dataframe to a csv file on your-code folder. Hint: post_id cannot have outliers!"
   ]
  },
  {
   "cell_type": "code",
   "execution_count": 13,
   "metadata": {
    "ExecuteTime": {
     "end_time": "2020-07-19T08:39:22.493319Z",
     "start_time": "2020-07-19T08:39:22.486292Z"
    }
   },
   "outputs": [],
   "source": [
    "# Outlier are the values that:\n",
    "# value < Q1 - 1.5*IQR\n",
    "# value > Q3 + 1.5*IQR\n",
    "\n",
    "# IQR = (median of first half of the data) - (median second half) = Q3-Q1\n",
    "# Q1 = 25%\n",
    "# Q3 = 75%"
   ]
  },
  {
   "cell_type": "code",
   "execution_count": 16,
   "metadata": {
    "ExecuteTime": {
     "end_time": "2020-07-19T08:40:57.069577Z",
     "start_time": "2020-07-19T08:40:56.997718Z"
    }
   },
   "outputs": [
    {
     "data": {
      "text/html": [
       "<div>\n",
       "<style scoped>\n",
       "    .dataframe tbody tr th:only-of-type {\n",
       "        vertical-align: middle;\n",
       "    }\n",
       "\n",
       "    .dataframe tbody tr th {\n",
       "        vertical-align: top;\n",
       "    }\n",
       "\n",
       "    .dataframe thead th {\n",
       "        text-align: right;\n",
       "    }\n",
       "</style>\n",
       "<table border=\"1\" class=\"dataframe\">\n",
       "  <thead>\n",
       "    <tr style=\"text-align: right;\">\n",
       "      <th></th>\n",
       "      <th>count</th>\n",
       "      <th>mean</th>\n",
       "      <th>std</th>\n",
       "      <th>min</th>\n",
       "      <th>25%</th>\n",
       "      <th>50%</th>\n",
       "      <th>75%</th>\n",
       "      <th>max</th>\n",
       "      <th>IQR</th>\n",
       "    </tr>\n",
       "  </thead>\n",
       "  <tbody>\n",
       "    <tr>\n",
       "      <th>user_id</th>\n",
       "      <td>1065.0</td>\n",
       "      <td>2.280169e+06</td>\n",
       "      <td>1.833959e+06</td>\n",
       "      <td>274.0</td>\n",
       "      <td>653292.0</td>\n",
       "      <td>1996838.0</td>\n",
       "      <td>3545704.0</td>\n",
       "      <td>6449207.0</td>\n",
       "      <td>2892412.0</td>\n",
       "    </tr>\n",
       "    <tr>\n",
       "      <th>reputation</th>\n",
       "      <td>1065.0</td>\n",
       "      <td>7.251177e+03</td>\n",
       "      <td>2.402161e+04</td>\n",
       "      <td>1.0</td>\n",
       "      <td>246.0</td>\n",
       "      <td>1145.0</td>\n",
       "      <td>5206.0</td>\n",
       "      <td>287170.0</td>\n",
       "      <td>4960.0</td>\n",
       "    </tr>\n",
       "    <tr>\n",
       "      <th>views</th>\n",
       "      <td>1065.0</td>\n",
       "      <td>6.152451e+02</td>\n",
       "      <td>1.497408e+03</td>\n",
       "      <td>0.0</td>\n",
       "      <td>39.0</td>\n",
       "      <td>145.0</td>\n",
       "      <td>496.0</td>\n",
       "      <td>23103.0</td>\n",
       "      <td>457.0</td>\n",
       "    </tr>\n",
       "    <tr>\n",
       "      <th>up_votes</th>\n",
       "      <td>1065.0</td>\n",
       "      <td>3.976883e+02</td>\n",
       "      <td>7.476289e+02</td>\n",
       "      <td>0.0</td>\n",
       "      <td>15.0</td>\n",
       "      <td>96.0</td>\n",
       "      <td>375.0</td>\n",
       "      <td>7886.0</td>\n",
       "      <td>360.0</td>\n",
       "    </tr>\n",
       "    <tr>\n",
       "      <th>down_votes</th>\n",
       "      <td>1065.0</td>\n",
       "      <td>4.941502e+01</td>\n",
       "      <td>1.773088e+02</td>\n",
       "      <td>0.0</td>\n",
       "      <td>0.0</td>\n",
       "      <td>3.0</td>\n",
       "      <td>20.0</td>\n",
       "      <td>2692.0</td>\n",
       "      <td>20.0</td>\n",
       "    </tr>\n",
       "    <tr>\n",
       "      <th>post_id</th>\n",
       "      <td>1065.0</td>\n",
       "      <td>3.398846e+07</td>\n",
       "      <td>4.495709e+06</td>\n",
       "      <td>4142174.0</td>\n",
       "      <td>32891107.0</td>\n",
       "      <td>35563172.0</td>\n",
       "      <td>36991120.0</td>\n",
       "      <td>37769864.0</td>\n",
       "      <td>4100013.0</td>\n",
       "    </tr>\n",
       "    <tr>\n",
       "      <th>score</th>\n",
       "      <td>1065.0</td>\n",
       "      <td>1.239437e-01</td>\n",
       "      <td>5.781415e-01</td>\n",
       "      <td>-7.0</td>\n",
       "      <td>0.0</td>\n",
       "      <td>0.0</td>\n",
       "      <td>0.0</td>\n",
       "      <td>3.0</td>\n",
       "      <td>0.0</td>\n",
       "    </tr>\n",
       "    <tr>\n",
       "      <th>view_count</th>\n",
       "      <td>1065.0</td>\n",
       "      <td>1.560657e+01</td>\n",
       "      <td>3.711159e+00</td>\n",
       "      <td>3.0</td>\n",
       "      <td>13.0</td>\n",
       "      <td>17.0</td>\n",
       "      <td>19.0</td>\n",
       "      <td>20.0</td>\n",
       "      <td>6.0</td>\n",
       "    </tr>\n",
       "    <tr>\n",
       "      <th>comment_count</th>\n",
       "      <td>1065.0</td>\n",
       "      <td>9.267606e-01</td>\n",
       "      <td>1.627503e+00</td>\n",
       "      <td>0.0</td>\n",
       "      <td>0.0</td>\n",
       "      <td>0.0</td>\n",
       "      <td>1.0</td>\n",
       "      <td>11.0</td>\n",
       "      <td>1.0</td>\n",
       "    </tr>\n",
       "  </tbody>\n",
       "</table>\n",
       "</div>"
      ],
      "text/plain": [
       "                count          mean           std        min         25%  \\\n",
       "user_id        1065.0  2.280169e+06  1.833959e+06      274.0    653292.0   \n",
       "reputation     1065.0  7.251177e+03  2.402161e+04        1.0       246.0   \n",
       "views          1065.0  6.152451e+02  1.497408e+03        0.0        39.0   \n",
       "up_votes       1065.0  3.976883e+02  7.476289e+02        0.0        15.0   \n",
       "down_votes     1065.0  4.941502e+01  1.773088e+02        0.0         0.0   \n",
       "post_id        1065.0  3.398846e+07  4.495709e+06  4142174.0  32891107.0   \n",
       "score          1065.0  1.239437e-01  5.781415e-01       -7.0         0.0   \n",
       "view_count     1065.0  1.560657e+01  3.711159e+00        3.0        13.0   \n",
       "comment_count  1065.0  9.267606e-01  1.627503e+00        0.0         0.0   \n",
       "\n",
       "                      50%         75%         max        IQR  \n",
       "user_id         1996838.0   3545704.0   6449207.0  2892412.0  \n",
       "reputation         1145.0      5206.0    287170.0     4960.0  \n",
       "views               145.0       496.0     23103.0      457.0  \n",
       "up_votes             96.0       375.0      7886.0      360.0  \n",
       "down_votes            3.0        20.0      2692.0       20.0  \n",
       "post_id        35563172.0  36991120.0  37769864.0  4100013.0  \n",
       "score                 0.0         0.0         3.0        0.0  \n",
       "view_count           17.0        19.0        20.0        6.0  \n",
       "comment_count         0.0         1.0        11.0        1.0  "
      ]
     },
     "metadata": {},
     "output_type": "display_data"
    }
   ],
   "source": [
    "stats = merged_df.describe().transpose()\n",
    "\n",
    "stats['IQR'] = stats['75%'] - stats['25%']\n",
    "\n",
    "display(stats)"
   ]
  },
  {
   "cell_type": "code",
   "execution_count": 18,
   "metadata": {
    "ExecuteTime": {
     "end_time": "2020-07-19T08:42:19.049903Z",
     "start_time": "2020-07-19T08:42:19.040237Z"
    }
   },
   "outputs": [],
   "source": [
    "# Create the outliers dataframe with the same columns as the merged dataframe\n",
    "\n",
    "outliers = pd.DataFrame(columns = merged_df.columns)"
   ]
  },
  {
   "cell_type": "code",
   "execution_count": 26,
   "metadata": {
    "ExecuteTime": {
     "end_time": "2020-07-19T08:50:22.657416Z",
     "start_time": "2020-07-19T08:50:22.596528Z"
    }
   },
   "outputs": [],
   "source": [
    "# Obtain the outliers for each column (index in stats DataFrame) and save them in results\n",
    "for col in stats.index:\n",
    "    \n",
    "    #I use at instead of loc because I only need to get a single value from the DataFrame\n",
    "    iqr = stats.at[col, 'IQR'] \n",
    "    \n",
    "    cutoff = iqr*1.5\n",
    "    \n",
    "    # Bounds:\n",
    "    lower = stats.at[col, '25%'] - cutoff\n",
    "    upper = stats.at[col, '75%'] + cutoff\n",
    "    \n",
    "    results = merged_df[ (merged_df[col]<lower) | (merged_df[col] > upper) ].copy()\n",
    "    \n",
    "    # The outlier column indicates from what column the outlier is coming from\n",
    "    results['outlier'] = col\n",
    "    \n",
    "    outliers = outliers.append(results)"
   ]
  },
  {
   "cell_type": "code",
   "execution_count": 27,
   "metadata": {
    "ExecuteTime": {
     "end_time": "2020-07-19T08:50:23.903985Z",
     "start_time": "2020-07-19T08:50:23.866689Z"
    }
   },
   "outputs": [],
   "source": [
    "# Save to a csv\n",
    "outliers.to_csv('outliers.csv')"
   ]
  },
  {
   "cell_type": "code",
   "execution_count": null,
   "metadata": {},
   "outputs": [],
   "source": []
  }
 ],
 "metadata": {
  "kernelspec": {
   "display_name": "Python 3",
   "language": "python",
   "name": "python3"
  },
  "language_info": {
   "codemirror_mode": {
    "name": "ipython",
    "version": 3
   },
   "file_extension": ".py",
   "mimetype": "text/x-python",
   "name": "python",
   "nbconvert_exporter": "python",
   "pygments_lexer": "ipython3",
   "version": "3.7.6"
  },
  "toc": {
   "base_numbering": 1,
   "nav_menu": {},
   "number_sections": true,
   "sideBar": true,
   "skip_h1_title": false,
   "title_cell": "Table of Contents",
   "title_sidebar": "Contents",
   "toc_cell": false,
   "toc_position": {},
   "toc_section_display": true,
   "toc_window_display": false
  },
  "varInspector": {
   "cols": {
    "lenName": 16,
    "lenType": 16,
    "lenVar": 40
   },
   "kernels_config": {
    "python": {
     "delete_cmd_postfix": "",
     "delete_cmd_prefix": "del ",
     "library": "var_list.py",
     "varRefreshCmd": "print(var_dic_list())"
    },
    "r": {
     "delete_cmd_postfix": ") ",
     "delete_cmd_prefix": "rm(",
     "library": "var_list.r",
     "varRefreshCmd": "cat(var_dic_list()) "
    }
   },
   "types_to_exclude": [
    "module",
    "function",
    "builtin_function_or_method",
    "instance",
    "_Feature"
   ],
   "window_display": false
  }
 },
 "nbformat": 4,
 "nbformat_minor": 2
}
