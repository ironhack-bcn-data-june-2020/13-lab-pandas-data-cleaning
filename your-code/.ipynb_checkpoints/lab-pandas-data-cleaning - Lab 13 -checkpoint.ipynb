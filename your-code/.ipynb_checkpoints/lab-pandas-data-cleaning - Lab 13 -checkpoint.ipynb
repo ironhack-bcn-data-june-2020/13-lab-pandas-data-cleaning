{
 "cells": [
  {
   "cell_type": "markdown",
   "metadata": {},
   "source": [
    "#### 1. Import pandas library"
   ]
  },
  {
   "cell_type": "code",
   "execution_count": 2,
   "metadata": {
    "ExecuteTime": {
     "end_time": "2020-07-16T07:15:03.705664Z",
     "start_time": "2020-07-16T07:15:03.703245Z"
    }
   },
   "outputs": [],
   "source": [
    "import pandas as pd"
   ]
  },
  {
   "cell_type": "markdown",
   "metadata": {},
   "source": [
    "#### 2. Load data (users.csv, posts.csv)"
   ]
  },
  {
   "cell_type": "code",
   "execution_count": 6,
   "metadata": {
    "ExecuteTime": {
     "end_time": "2020-07-16T07:15:20.963637Z",
     "start_time": "2020-07-16T07:15:20.899719Z"
    }
   },
   "outputs": [
    {
     "data": {
      "text/plain": [
       "<bound method NDFrame.head of        Unnamed: 0       id     display_name  \\\n",
       "0               0   107658       ivordesign   \n",
       "1               1   218597           icabod   \n",
       "2               2   326360         rbaker86   \n",
       "3               3   379556      Rui Marques   \n",
       "4               4   450456            Jules   \n",
       "...           ...      ...              ...   \n",
       "14843       14843   574332  Captain Caveman   \n",
       "14844       14844  7155452           Mode-X   \n",
       "14845       14845  5529001         V.Savage   \n",
       "14846       14846  4105549        Tom Baker   \n",
       "14847       14847  4886640         gopisaba   \n",
       "\n",
       "                                                about_me  age  \\\n",
       "0                                                    NaN  NaN   \n",
       "1                                                    NaN  NaN   \n",
       "2      <p>Software developer and technology enthusias...  NaN   \n",
       "3      <p>Engineer and Automation Architect at Vonage...  NaN   \n",
       "4                                                    NaN  NaN   \n",
       "...                                                  ...  ...   \n",
       "14843                                                NaN  NaN   \n",
       "14844  <p>Just getting into Android App development. ...  NaN   \n",
       "14845                                                NaN  NaN   \n",
       "14846  <p>Support Developer</p>\\n\\n<p>Using,</p>\\n\\n<...  NaN   \n",
       "14847  <p>Individual contributor who loves Infrastruc...  NaN   \n",
       "\n",
       "                          creation_date                  last_access_date  \\\n",
       "0      2009-05-15 12:21:51.230000+00:00  2014-08-28 17:43:18.040000+00:00   \n",
       "1      2009-11-25 13:30:42.460000+00:00  2020-05-29 11:44:18.140000+00:00   \n",
       "2      2010-04-26 21:18:19.857000+00:00  2017-12-04 16:49:29.297000+00:00   \n",
       "3      2010-06-29 23:32:49.870000+00:00  2020-05-28 14:49:23.427000+00:00   \n",
       "4      2010-09-17 09:47:09.397000+00:00  2020-05-13 07:03:58.113000+00:00   \n",
       "...                                 ...                               ...   \n",
       "14843  2011-01-13 14:08:49.653000+00:00  2018-05-24 20:33:44.657000+00:00   \n",
       "14844  2016-11-14 06:43:00.503000+00:00  2019-02-05 22:05:38.527000+00:00   \n",
       "14845  2015-11-05 11:28:05.457000+00:00  2016-03-09 12:16:33.497000+00:00   \n",
       "14846  2014-09-26 10:43:52.033000+00:00  2020-05-27 15:34:09.103000+00:00   \n",
       "14847  2015-05-11 08:58:26.783000+00:00  2020-05-30 21:55:14.380000+00:00   \n",
       "\n",
       "             location  reputation  up_votes  down_votes  views  \\\n",
       "0      United Kingdom         305         2           0     91   \n",
       "1      United Kingdom        6559       361          25    374   \n",
       "2      United Kingdom        1802        40          14     97   \n",
       "3      United Kingdom        2335       125          10    261   \n",
       "4      United Kingdom        7746       256          50   3598   \n",
       "...               ...         ...       ...         ...    ...   \n",
       "14843  United Kingdom          41        10           0      6   \n",
       "14844  United Kingdom          41         0           0      6   \n",
       "14845  United Kingdom          41         0           0     11   \n",
       "14846  United Kingdom          41         2           0     11   \n",
       "14847  United Kingdom          41        13           0     11   \n",
       "\n",
       "                                       profile_image_url  \\\n",
       "0                                                    NaN   \n",
       "1                                                    NaN   \n",
       "2                                                    NaN   \n",
       "3                                                    NaN   \n",
       "4          https://i.stack.imgur.com/4Y8Zf.jpg?s=128&g=1   \n",
       "...                                                  ...   \n",
       "14843                                                NaN   \n",
       "14844  https://www.gravatar.com/avatar/0abeeedd0dd8d3...   \n",
       "14845                https://i.stack.imgur.com/tSAyG.jpg   \n",
       "14846  https://www.gravatar.com/avatar/19c36d2481ad65...   \n",
       "14847  https://www.gravatar.com/avatar/60302cf41ce053...   \n",
       "\n",
       "                            website_url  \n",
       "0      http://www.ivorthedesigner.co.uk  \n",
       "1                   http://icablog.org/  \n",
       "2                             http://na  \n",
       "3                  http://ruimarques.io  \n",
       "4        https://www.julesmoorhouse.com  \n",
       "...                                 ...  \n",
       "14843                               NaN  \n",
       "14844                               NaN  \n",
       "14845                               NaN  \n",
       "14846                        http://N/A  \n",
       "14847                               NaN  \n",
       "\n",
       "[14848 rows x 14 columns]>"
      ]
     },
     "execution_count": 6,
     "metadata": {},
     "output_type": "execute_result"
    }
   ],
   "source": [
    "users = pd.read_csv(\"/Users/blancurri/Desktop/Formació/IronHack/Labs/13-lab-pandas-data-cleaning/your-code/users.csv\")\n",
    "users.head()"
   ]
  },
  {
   "cell_type": "code",
   "execution_count": 4,
   "metadata": {
    "ExecuteTime": {
     "end_time": "2020-07-16T07:15:05.614074Z",
     "start_time": "2020-07-16T07:15:05.501652Z"
    }
   },
   "outputs": [],
   "source": [
    "users = pd.read_csv(\"/Users/blancurri/Desktop/Formació/IronHack/Labs/13-lab-pandas-data-cleaning/your-code/posts.csv\")"
   ]
  },
  {
   "cell_type": "markdown",
   "metadata": {},
   "source": [
    "#### 3. Rename id column to user_id"
   ]
  },
  {
   "cell_type": "code",
   "execution_count": 15,
   "metadata": {
    "collapsed": true
   },
   "outputs": [],
   "source": []
  },
  {
   "cell_type": "markdown",
   "metadata": {},
   "source": [
    "#### 4. Rename id column to post_id and owner_user_id to user_id"
   ]
  },
  {
   "cell_type": "code",
   "execution_count": 24,
   "metadata": {
    "collapsed": true
   },
   "outputs": [],
   "source": []
  },
  {
   "cell_type": "markdown",
   "metadata": {},
   "source": [
    "#### 5. Define new dataframes for users and posts with the following selected columns:\n",
    "    **users columns**: user_id, reputation,views,up_votes,down_votes\n",
    "    **posts columns**: post_id, score,user_id,view_count,comment_count"
   ]
  },
  {
   "cell_type": "code",
   "execution_count": null,
   "metadata": {},
   "outputs": [],
   "source": []
  },
  {
   "cell_type": "code",
   "execution_count": null,
   "metadata": {},
   "outputs": [],
   "source": []
  },
  {
   "cell_type": "markdown",
   "metadata": {},
   "source": [
    "#### 6. Merge both dataframes, users and posts. \n",
    "You will need to make a [merge](https://pandas.pydata.org/pandas-docs/stable/generated/pandas.DataFrame.merge.html) of posts and users dataframes."
   ]
  },
  {
   "cell_type": "code",
   "execution_count": null,
   "metadata": {},
   "outputs": [],
   "source": []
  },
  {
   "cell_type": "code",
   "execution_count": null,
   "metadata": {},
   "outputs": [],
   "source": []
  },
  {
   "cell_type": "markdown",
   "metadata": {},
   "source": [
    "#### 7. How many missing values do you have in your merged dataframe? "
   ]
  },
  {
   "cell_type": "code",
   "execution_count": null,
   "metadata": {},
   "outputs": [],
   "source": []
  },
  {
   "cell_type": "code",
   "execution_count": null,
   "metadata": {},
   "outputs": [],
   "source": []
  },
  {
   "cell_type": "markdown",
   "metadata": {},
   "source": [
    "There are no missing values"
   ]
  },
  {
   "cell_type": "markdown",
   "metadata": {},
   "source": [
    "#### Bonus: Identify extreme values in your merged dataframe, create a dataframe called outliers with the same columns as our data set and calculate the bounds. The values of the outliers dataframe will be the values of the merged_df that fall outside that bounds. You will need to save your outliers dataframe to a csv file on your-code folder. Hint: post_id cannot have outliers!"
   ]
  },
  {
   "cell_type": "code",
   "execution_count": null,
   "metadata": {},
   "outputs": [],
   "source": []
  },
  {
   "cell_type": "code",
   "execution_count": 56,
   "metadata": {},
   "outputs": [],
   "source": []
  },
  {
   "cell_type": "code",
   "execution_count": 57,
   "metadata": {
    "collapsed": true
   },
   "outputs": [],
   "source": []
  },
  {
   "cell_type": "code",
   "execution_count": 63,
   "metadata": {
    "collapsed": true
   },
   "outputs": [],
   "source": []
  }
 ],
 "metadata": {
  "kernelspec": {
   "display_name": "Python 3",
   "language": "python",
   "name": "python3"
  },
  "language_info": {
   "codemirror_mode": {
    "name": "ipython",
    "version": 3
   },
   "file_extension": ".py",
   "mimetype": "text/x-python",
   "name": "python",
   "nbconvert_exporter": "python",
   "pygments_lexer": "ipython3",
   "version": "3.7.6"
  },
  "toc": {
   "base_numbering": 1,
   "nav_menu": {},
   "number_sections": true,
   "sideBar": true,
   "skip_h1_title": false,
   "title_cell": "Table of Contents",
   "title_sidebar": "Contents",
   "toc_cell": false,
   "toc_position": {},
   "toc_section_display": true,
   "toc_window_display": false
  },
  "varInspector": {
   "cols": {
    "lenName": 16,
    "lenType": 16,
    "lenVar": 40
   },
   "kernels_config": {
    "python": {
     "delete_cmd_postfix": "",
     "delete_cmd_prefix": "del ",
     "library": "var_list.py",
     "varRefreshCmd": "print(var_dic_list())"
    },
    "r": {
     "delete_cmd_postfix": ") ",
     "delete_cmd_prefix": "rm(",
     "library": "var_list.r",
     "varRefreshCmd": "cat(var_dic_list()) "
    }
   },
   "types_to_exclude": [
    "module",
    "function",
    "builtin_function_or_method",
    "instance",
    "_Feature"
   ],
   "window_display": false
  }
 },
 "nbformat": 4,
 "nbformat_minor": 2
}
